{
 "cells": [
  {
   "cell_type": "code",
   "execution_count": 11,
   "metadata": {},
   "outputs": [],
   "source": [
    "import json\n",
    "from pathlib import Path\n",
    "import re\n",
    "import os\n",
    "from os.path import isfile, join\n",
    "from os import listdir"
   ]
  },
  {
   "cell_type": "code",
   "execution_count": 8,
   "metadata": {},
   "outputs": [],
   "source": [
    "def standardize_json(filename_csv,labels,predict=''):\n",
    "    with open(filename_csv,\"r\") as f : \n",
    "        a = f.readlines() \n",
    "    labels.sort() # on s'assure d'avoir des fichiers bien triés\n",
    "    clean_label = [elt for elt in labels if elt <= len(a[1:])] # on garde que les éléments qui sont inférieur à la taille max du fichiers csv\n",
    "    # cas de figure où le dernier élément ne correspod pas à la taille de la liste et la taille de la liste -1\n",
    "    if clean_label[-1] != len(a[1:]) and clean_label[-1] != len(a[1:])-1:\n",
    "        clean_label.append(len(a[1:])) \n",
    "    elif clean_label[-1] == len(a[1:])-1 :\n",
    "        clean_label[-1] = len(a[1:])\n",
    "    # création d'un fichier json qui contient les indices des labels, porte le même nom que le fichier csv\n",
    "    clean_label.sort() # tri la liste dans la cas où les labels n'ont pas été posées dans le bon ordre\n",
    "    raw_name = filename_csv.split('.')[:-1]\n",
    "    clean_name = '.'.join(raw_name)\n",
    "    with open(clean_name+predict+\".json\",\"w\") as f : \n",
    "        f.write(json.dumps(clean_label))\n",
    "\n",
    "def load_json(filename: Path):\n",
    "    with open(filename, \"r\") as fp:\n",
    "        res = json.load(fp=fp)\n",
    "    return res"
   ]
  },
  {
   "cell_type": "code",
   "execution_count": 5,
   "metadata": {},
   "outputs": [],
   "source": [
    "labels = load_json(\"1.true.json\")\n",
    "standardize_json(\"1.csv\",labels,predict=\".true\")"
   ]
  },
  {
   "cell_type": "code",
   "execution_count": 13,
   "metadata": {},
   "outputs": [
    {
     "name": "stdout",
     "output_type": "stream",
     "text": [
      "1.true.json\n"
     ]
    }
   ],
   "source": [
    "files = [f for f in listdir() if isfile(join('', f)) and f.split(\".\")[-1]==\"csv\"]\n",
    "for file_name in files : \n",
    "    json_name = '.'.join(file_name.split(\".\")[:-1])+\".true.json\"\n",
    "    print(json_name)\n",
    "    if os.path.exists(json_name):\n",
    "        labels = load_json(Path(json_name))\n",
    "        standardize_json(file_name,labels,predict='.true')"
   ]
  }
 ],
 "metadata": {
  "interpreter": {
   "hash": "2e550758ec118db0c8898576f19bbe1400c21a211b853a43b48e5054e8868558"
  },
  "kernelspec": {
   "display_name": "Python 3.10.1 64-bit",
   "language": "python",
   "name": "python3"
  },
  "language_info": {
   "codemirror_mode": {
    "name": "ipython",
    "version": 3
   },
   "file_extension": ".py",
   "mimetype": "text/x-python",
   "name": "python",
   "nbconvert_exporter": "python",
   "pygments_lexer": "ipython3",
   "version": "3.10.1"
  },
  "orig_nbformat": 4
 },
 "nbformat": 4,
 "nbformat_minor": 2
}
