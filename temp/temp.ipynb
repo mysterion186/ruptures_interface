{
 "cells": [
  {
   "cell_type": "code",
   "execution_count": 7,
   "metadata": {},
   "outputs": [],
   "source": [
    "import shutil\n",
    "MEDIA_ROOT = \".\""
   ]
  },
  {
   "cell_type": "code",
   "execution_count": 11,
   "metadata": {},
   "outputs": [],
   "source": [
    "# fonction pour télécger les signaux prédits \n",
    "def download(folder_val):\n",
    "    # si on arrive jusqu'à la possibilité de télécharger un dossier c'est que tous les ruptures ont été prédites \n",
    "    folder_path = str(MEDIA_ROOT)+\"/\"+str(folder_val)\n",
    "    # conversion du dossier en un zip \n",
    "    shutil.make_archive(folder_path+\"/\"+str(folder_val), \"zip\",folder_path) # où on sauvegarde, le format, le dossier qu'on veut compresser"
   ]
  },
  {
   "cell_type": "code",
   "execution_count": 12,
   "metadata": {},
   "outputs": [],
   "source": [
    "download(976)"
   ]
  },
  {
   "cell_type": "code",
   "execution_count": 13,
   "metadata": {},
   "outputs": [
    {
     "name": "stdout",
     "output_type": "stream",
     "text": [
      "1.true.json\n"
     ]
    }
   ],
   "source": []
  }
 ],
 "metadata": {
  "interpreter": {
   "hash": "c96016de23633acfec4f98705861a13925ad2b2312b8fe7cdfb169e1f22bc6f0"
  },
  "kernelspec": {
   "display_name": "Python 3.9.0 ('ENS')",
   "language": "python",
   "name": "python3"
  },
  "language_info": {
   "codemirror_mode": {
    "name": "ipython",
    "version": 3
   },
   "file_extension": ".py",
   "mimetype": "text/x-python",
   "name": "python",
   "nbconvert_exporter": "python",
   "pygments_lexer": "ipython3",
   "version": "3.9.0"
  },
  "orig_nbformat": 4
 },
 "nbformat": 4,
 "nbformat_minor": 2
}
