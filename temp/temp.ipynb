{
 "cells": [
  {
   "cell_type": "code",
   "execution_count": 1,
   "metadata": {},
   "outputs": [],
   "source": [
    "import json"
   ]
  },
  {
   "cell_type": "code",
   "execution_count": 3,
   "metadata": {},
   "outputs": [],
   "source": [
    "array = [3,10,11]\n",
    "with open(\"test.json\",\"w\") as f : \n",
    "    f.write(json.dumps(array))"
   ]
  },
  {
   "cell_type": "code",
   "execution_count": 6,
   "metadata": {},
   "outputs": [],
   "source": [
    "filename = \"media/113/train/1.csv\"\n",
    "array =  ['116', '245', '371']\n"
   ]
  },
  {
   "cell_type": "code",
   "execution_count": 7,
   "metadata": {},
   "outputs": [
    {
     "data": {
      "text/plain": [
       "['media/113/train/1', 'csv']"
      ]
     },
     "execution_count": 7,
     "metadata": {},
     "output_type": "execute_result"
    }
   ],
   "source": [
    "filename.split(\".\")"
   ]
  },
  {
   "cell_type": "code",
   "execution_count": 61,
   "metadata": {},
   "outputs": [],
   "source": [
    "import numpy as np\n",
    "from pathlib import Path\n",
    "import json\n",
    "import numpy as np\n",
    "import ruptures as rpt\n",
    "from scipy.optimize import minimize\n",
    "import re\n",
    "\n",
    "def load_json(filename: Path):\n",
    "    with open(filename, \"r\") as fp:\n",
    "        res = json.load(fp=fp)\n",
    "    return res\n",
    "\n",
    "\n",
    "def write_json(obj, filename: Path) -> None:\n",
    "    with open(filename, \"w\") as fp:\n",
    "        json.dump(obj=obj, fp=fp)\n",
    "\n",
    "\n",
    "def load_train_data(folder_train: Path):\n",
    "    err_msg = f\"Train folder not found: {folder_train}\"\n",
    "    assert folder_train.exists() and folder_train.is_dir(), err_msg\n",
    "\n",
    "    X_train = list()\n",
    "    y_train = list()\n",
    "    for filename in folder_train.iterdir():\n",
    "        if filename.suffix == \".json\":\n",
    "            label = load_json(filename=filename)\n",
    "            header = is_header(filename.with_suffix(\".csv\"))\n",
    "            if header:\n",
    "                signal = np.loadtxt(fname=filename.with_suffix(\".csv\"),skiprows=1)\n",
    "            else : \n",
    "                signal = np.loadtxt(fname=filename.with_suffix(\".csv\"))\n",
    "            X_train.append(signal)\n",
    "            y_train.append(label)\n",
    "    return X_train, y_train\n",
    "        \n",
    "\n",
    "def is_header(filename: Path):\n",
    "    regex_match = \"^[a-zA-Z]\"\n",
    "    with open(filename, \"r\") as fp:\n",
    "        a = fp.readline()\n",
    "    x =re.search(regex_match,a)\n",
    "    return x\n"
   ]
  },
  {
   "cell_type": "code",
   "execution_count": 34,
   "metadata": {},
   "outputs": [],
   "source": [
    "def is_header(filename: Path,regex_match):\n",
    "    with open(filename, \"r\") as fp:\n",
    "        a = fp.readline()\n",
    "    x =re.search(regex_match,a)\n",
    "    return x"
   ]
  },
  {
   "cell_type": "code",
   "execution_count": 44,
   "metadata": {},
   "outputs": [
    {
     "name": "stdout",
     "output_type": "stream",
     "text": [
      "ok\n"
     ]
    }
   ],
   "source": [
    "x = (is_header(Path(\"train/1.csv\")))\n",
    "if x :\n",
    "    print(\"ok\")\n",
    "    signal = np.loadtxt(fname=Path(\"train/1.csv\"),skiprows=1)"
   ]
  },
  {
   "cell_type": "code",
   "execution_count": 62,
   "metadata": {},
   "outputs": [],
   "source": [
    "x_train,y_train = load_train_data(Path(\"train\"))"
   ]
  },
  {
   "cell_type": "code",
   "execution_count": 64,
   "metadata": {},
   "outputs": [
    {
     "data": {
      "text/plain": [
       "3"
      ]
     },
     "execution_count": 64,
     "metadata": {},
     "output_type": "execute_result"
    }
   ],
   "source": [
    "len(x_train)"
   ]
  },
  {
   "cell_type": "code",
   "execution_count": 68,
   "metadata": {},
   "outputs": [
    {
     "data": {
      "image/png": "[encoded data removed]",
      "text/plain": [
       "<Figure size 432x288 with 1 Axes>"
      ]
     },
     "metadata": {
      "needs_background": "light"
     },
     "output_type": "display_data"
    }
   ],
   "source": [
    "import matplotlib.pyplot as plt\n",
    "\n",
    "# plt.plot(x_train[0])\n",
    "# plt.plot(x_train[1])\n",
    "plt.plot(x_train[2])\n",
    "plt.show()"
   ]
  },
  {
   "cell_type": "code",
   "execution_count": 35,
   "metadata": {},
   "outputs": [
    {
     "name": "stdout",
     "output_type": "stream",
     "text": [
      "Il y a une valeur\n",
      "Il y a une valeur\n"
     ]
    }
   ],
   "source": [
    "regex_match = \"^[a-zA-Z]\" #regex pour voir si les mots commence par une valeuur ou pas\n",
    "float_match = \"[+-]?([0-9]+([.][0-9]*)?|[.][0-9]+)\" # regex match pour les float\n",
    "alpha = is_header(Path(\"train/2.csv\"),regex_match)\n",
    "beta = is_header(Path(\"train/1.csv\"),regex_match)\n",
    "gamma = is_header(Path(\"train/1_original.csv\"),regex_match)\n",
    "if alpha : \n",
    "    print(\"Il y a une valeur\")\n",
    "if beta : \n",
    "    print(\"Il y a une valeur\")\n",
    "if gamma : \n",
    "    print(\"doit commencer par des nombres\")"
   ]
  },
  {
   "cell_type": "code",
   "execution_count": 33,
   "metadata": {},
   "outputs": [
    {
     "name": "stdout",
     "output_type": "stream",
     "text": [
      "<re.Match object; span=(0, 1), match='1'>\n"
     ]
    }
   ],
   "source": [
    "print(re.search(\"[0-9]\",\"1213A\"))"
   ]
  }
 ],
 "metadata": {
  "interpreter": {
   "hash": "c96016de23633acfec4f98705861a13925ad2b2312b8fe7cdfb169e1f22bc6f0"
  },
  "kernelspec": {
   "display_name": "Python 3.9.0 ('ENS')",
   "language": "python",
   "name": "python3"
  },
  "language_info": {
   "codemirror_mode": {
    "name": "ipython",
    "version": 3
   },
   "file_extension": ".py",
   "mimetype": "text/x-python",
   "name": "python",
   "nbconvert_exporter": "python",
   "pygments_lexer": "ipython3",
   "version": "3.9.0"
  },
  "orig_nbformat": 4
 },
 "nbformat": 4,
 "nbformat_minor": 2
}
