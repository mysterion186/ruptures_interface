{
 "cells": [
  {
   "cell_type": "code",
   "execution_count": 1,
   "metadata": {},
   "outputs": [],
   "source": [
    "import json\n",
    "from pathlib import Path"
   ]
  },
  {
   "cell_type": "code",
   "execution_count": 3,
   "metadata": {},
   "outputs": [],
   "source": [
    "def write_json(obj, filename: Path) -> None:\n",
    "    with open(filename, \"w\") as fp:\n",
    "        json.dump(obj=obj, fp=fp)\n",
    "\n",
    "def load_json(filename: Path):\n",
    "    with open(filename, \"r\") as fp:\n",
    "        res = json.load(fp=fp)\n",
    "    return res"
   ]
  },
  {
   "cell_type": "code",
   "execution_count": 4,
   "metadata": {},
   "outputs": [],
   "source": [
    "value = {\"pen_opt\":34}\n",
    "rpt_type = load_json(Path(\"pen_opt.json\"))"
   ]
  },
  {
   "cell_type": "code",
   "execution_count": 7,
   "metadata": {},
   "outputs": [
    {
     "name": "stdout",
     "output_type": "stream",
     "text": [
      "{'model': 'l2', 'pen_opt': 34}\n"
     ]
    }
   ],
   "source": [
    "rpt_type.update(value)\n",
    "print(rpt_type)\n",
    "write_json(rpt_type,Path(\"pen_opt.json\"))"
   ]
  },
  {
   "cell_type": "code",
   "execution_count": 8,
   "metadata": {},
   "outputs": [
    {
     "data": {
      "text/plain": [
       "[[3, 7], [5], [25], [27, 32], [145]]"
      ]
     },
     "execution_count": 8,
     "metadata": {},
     "output_type": "execute_result"
    }
   ],
   "source": [
    "temp = [[145],[27,32],[5],[3,7],[25]]\n",
    "temp.sort()\n",
    "temp"
   ]
  },
  {
   "cell_type": "code",
   "execution_count": 4,
   "metadata": {},
   "outputs": [
    {
     "name": "stdout",
     "output_type": "stream",
     "text": [
      "[5, 145] [[3, 7], [27, 32]]\n"
     ]
    }
   ],
   "source": [
    "temp = [145,[27,32],5,[3,7]]\n",
    "interger_list = []\n",
    "list_list = []\n",
    "for elt in temp:\n",
    "    if isinstance(elt, int):\n",
    "        interger_list.append(elt)\n",
    "    else :\n",
    "        list_list.append(elt)\n",
    "interger_list.sort()\n",
    "list_list.sort()\n",
    "print(interger_list,list_list)"
   ]
  },
  {
   "cell_type": "code",
   "execution_count": 31,
   "metadata": {},
   "outputs": [],
   "source": [
    "import json \n",
    "\n",
    "def standardize_json(filename_csv, labels, predict=\"\"):\n",
    "    with open(filename_csv, \"r\") as f:\n",
    "        a = f.readlines()\n",
    "    labels.sort()  # sort labels\n",
    "    clean_label = [\n",
    "        elt for elt in labels if elt[-1] <= len(a[1:]) # check that the last element ot the list in inferior to the signal length\n",
    "    ]  # keep only element that are inferior to the signals length\n",
    "    # case where the last value of the labes are neither signal length-1 or signal length\n",
    "    if clean_label[-1][-1] != len(a[1:]) and clean_label[-1][-1] != len(a[1:]) - 1:\n",
    "        print(\"dans le if \",[len(a[1:])])\n",
    "        clean_label.append([len(a[1:])])\n",
    "    elif clean_label[-1][-1] == len(a[1:]) - 1:\n",
    "        print(\"dans le elif\")\n",
    "        clean_label[-1] = [len(a[1:])]\n",
    "    # create json file that will store the labels, with the same name that the csv file\n",
    "    clean_label.sort()  # sort the list\n",
    "    # convert one item list to intger\n",
    "    final_label = []\n",
    "    for elt in clean_label:\n",
    "        if len(elt) == 1:\n",
    "            final_label.append(elt[0])\n",
    "        else : \n",
    "            final_label.append(elt)\n",
    "    raw_name = filename_csv.split(\".\")[:-1]\n",
    "    clean_name = \".\".join(raw_name)\n",
    "    with open(clean_name + predict + \".json\", \"w\") as f:\n",
    "        f.write(json.dumps(final_label))"
   ]
  },
  {
   "cell_type": "code",
   "execution_count": 33,
   "metadata": {},
   "outputs": [
    {
     "name": "stdout",
     "output_type": "stream",
     "text": [
      "[[121], [247, 400], [376], [499]]\n",
      "dans le elif\n",
      "[[121], [247, 400], [376], [500]]\n"
     ]
    }
   ],
   "source": [
    "standardize_json(\"1.csv\",[[121], [247,400], [376],[499]])"
   ]
  },
  {
   "cell_type": "code",
   "execution_count": 23,
   "metadata": {},
   "outputs": [
    {
     "name": "stdout",
     "output_type": "stream",
     "text": [
      "[[121], [247], [376], [500]]\n"
     ]
    }
   ],
   "source": [
    "temp = [[121], [247], [376]]\n",
    "temp.append([500])\n",
    "print(temp)"
   ]
  },
  {
   "cell_type": "code",
   "execution_count": 3,
   "metadata": {},
   "outputs": [
    {
     "name": "stdout",
     "output_type": "stream",
     "text": [
      "[[1, 6, 8], [34], [4, 6]]\n"
     ]
    }
   ],
   "source": [
    "temp = [[1,[5,7],8],[[12,56]],[4,6]]\n",
    "y_train = []\n",
    "# labels are in temp\n",
    "for label in temp :\n",
    "    sub_temp = []\n",
    "    for elt in label :\n",
    "        if isinstance(elt,list): \n",
    "            mean = int((elt[0]+elt[1])/2)\n",
    "            sub_temp.append(mean)\n",
    "        else : \n",
    "            sub_temp.append(elt)\n",
    "    y_train.append(sub_temp)\n",
    "\n",
    "print(y_train)"
   ]
  }
 ],
 "metadata": {
  "interpreter": {
   "hash": "c96016de23633acfec4f98705861a13925ad2b2312b8fe7cdfb169e1f22bc6f0"
  },
  "kernelspec": {
   "display_name": "Python 3.9.0 ('ENS')",
   "language": "python",
   "name": "python3"
  },
  "language_info": {
   "codemirror_mode": {
    "name": "ipython",
    "version": 3
   },
   "file_extension": ".py",
   "mimetype": "text/x-python",
   "name": "python",
   "nbconvert_exporter": "python",
   "pygments_lexer": "ipython3",
   "version": "3.9.0"
  },
  "orig_nbformat": 4
 },
 "nbformat": 4,
 "nbformat_minor": 2
}
