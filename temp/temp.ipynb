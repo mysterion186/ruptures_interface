{
 "cells": [
  {
   "cell_type": "code",
   "execution_count": 1,
   "metadata": {},
   "outputs": [],
   "source": [
    "import json\n",
    "from pathlib import Path"
   ]
  },
  {
   "cell_type": "code",
   "execution_count": 3,
   "metadata": {},
   "outputs": [],
   "source": [
    "def write_json(obj, filename: Path) -> None:\n",
    "    with open(filename, \"w\") as fp:\n",
    "        json.dump(obj=obj, fp=fp)\n",
    "\n",
    "def load_json(filename: Path):\n",
    "    with open(filename, \"r\") as fp:\n",
    "        res = json.load(fp=fp)\n",
    "    return res"
   ]
  },
  {
   "cell_type": "code",
   "execution_count": 4,
   "metadata": {},
   "outputs": [],
   "source": [
    "value = {\"pen_opt\":34}\n",
    "rpt_type = load_json(Path(\"pen_opt.json\"))"
   ]
  },
  {
   "cell_type": "code",
   "execution_count": 7,
   "metadata": {},
   "outputs": [
    {
     "name": "stdout",
     "output_type": "stream",
     "text": [
      "{'model': 'l2', 'pen_opt': 34}\n"
     ]
    }
   ],
   "source": [
    "rpt_type.update(value)\n",
    "print(rpt_type)\n",
    "write_json(rpt_type,Path(\"pen_opt.json\"))"
   ]
  }
 ],
 "metadata": {
  "interpreter": {
   "hash": "c96016de23633acfec4f98705861a13925ad2b2312b8fe7cdfb169e1f22bc6f0"
  },
  "kernelspec": {
   "display_name": "Python 3.9.0 ('ENS')",
   "language": "python",
   "name": "python3"
  },
  "language_info": {
   "codemirror_mode": {
    "name": "ipython",
    "version": 3
   },
   "file_extension": ".py",
   "mimetype": "text/x-python",
   "name": "python",
   "nbconvert_exporter": "python",
   "pygments_lexer": "ipython3",
   "version": "3.9.0"
  },
  "orig_nbformat": 4
 },
 "nbformat": 4,
 "nbformat_minor": 2
}
